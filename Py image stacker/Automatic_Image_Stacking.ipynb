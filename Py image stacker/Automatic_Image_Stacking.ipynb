{
  "cells": [
    {
      "cell_type": "code",
      "execution_count": 1,
      "metadata": {
        "id": "us0T0bqwJ3Sd"
      },
      "outputs": [],
      "source": [
        "import os\n",
        "import cv2\n",
        "import numpy as np\n",
        "from time import time\n",
        "import matplotlib.pyplot as plt\n",
        "import copy \n",
        "import random\n",
        "from skimage import io\n",
        "import math\n",
        "\n"
      ]
    },
    {
      "cell_type": "markdown",
      "metadata": {
        "id": "5aYrHKHeK93p"
      },
      "source": [
        "Inspired by https://github.com/maitek/image_stacking (stolen)\n"
      ]
    },
    {
      "cell_type": "code",
      "execution_count": 3,
      "metadata": {
        "id": "yZkVf4dOKCwG"
      },
      "outputs": [],
      "source": [
        "# Align and stack images with ECC method\n",
        "# Slower but more accurate\n",
        "def stackImagesECC(file_list):\n",
        "    M = np.eye(3, 3, dtype=np.float32)\n",
        "\n",
        "    first_image = None\n",
        "    stacked_image = None\n",
        "    i = 0;\n",
        "    for file in file_list:\n",
        "        i += 1;\n",
        "        image = cv2.imread(file,1).astype(np.float32) / 255\n",
        "        print(file)\n",
        "        if first_image is None:\n",
        "            # convert to gray scale floating point image\n",
        "            first_image = cv2.cvtColor(image,cv2.COLOR_BGR2GRAY)\n",
        "            stacked_image = image\n",
        "            plt.imshow(cv2.cvtColor(stacked_image))\n",
        "            \n",
        "        else:\n",
        "            # Estimate perspective transform\n",
        "            s, M = cv2.findTransformECC(cv2.cvtColor(image,cv2.COLOR_BGR2GRAY), first_image, M, cv2.MOTION_HOMOGRAPHY)\n",
        "            w, h, _ = image.shape\n",
        "            # Align image to first image\n",
        "            image = cv2.warpPerspective(image, M, (h, w))\n",
        "            show = image.copy()\n",
        "            show /= i\n",
        "            show = (show*255).astype(np.uint8)\n",
        "            stacked_image += image\n",
        "\n",
        "    stacked_image /= len(file_list)\n",
        "    stacked_image = (stacked_image*255).astype(np.uint8)\n",
        "    return stacked_image\n",
        "\n"
      ]
    },
    {
      "cell_type": "code",
      "execution_count": 5,
      "metadata": {
        "id": "FvqtcMhr_xOC"
      },
      "outputs": [],
      "source": [
        "# Align and stack images by matching ORB keypoints\n",
        "# Faster but less accurate\n",
        "def stackImagesKeypointMatching(file_list):\n",
        "\n",
        "    orb = cv2.ORB_create()\n",
        "\n",
        "    # disable OpenCL to because of bug in ORB in OpenCV 3.1\n",
        "    cv2.ocl.setUseOpenCL(False)\n",
        "\n",
        "    stacked_image = None\n",
        "    first_image = None\n",
        "    first_kp = None\n",
        "    first_des = None\n",
        "    for file in file_list:\n",
        "        print(file)\n",
        "        image = cv2.imread(file,1)\n",
        "        imageF = image.astype(np.float32) / 255\n",
        "\n",
        "        # compute the descriptors with ORB\n",
        "        kp = orb.detect(image, None)\n",
        "        kp, des = orb.compute(image, kp)\n",
        "\n",
        "        # create BFMatcher object\n",
        "        matcher = cv2.BFMatcher(cv2.NORM_HAMMING, crossCheck=True)\n",
        "\n",
        "        if first_image is None:\n",
        "            # Save keypoints for first image\n",
        "            stacked_image = imageF\n",
        "            first_image = image\n",
        "            first_kp = kp\n",
        "            first_des = des\n",
        "        else:\n",
        "             # Find matches and sort them in the order of their distance\n",
        "            matches = matcher.match(first_des, des)\n",
        "            matches = sorted(matches, key=lambda x: x.distance)\n",
        "\n",
        "            src_pts = np.float32(\n",
        "                [first_kp[m.queryIdx].pt for m in matches]).reshape(-1, 1, 2)\n",
        "            dst_pts = np.float32(\n",
        "                [kp[m.trainIdx].pt for m in matches]).reshape(-1, 1, 2)\n",
        "\n",
        "            \n",
        "             # Estimate perspective transformation\n",
        "            M, mask = cv2.findHomography(dst_pts, src_pts, cv2.RANSAC, 5.0)\n",
        "\n",
        "            w, h, _ = imageF.shape\n",
        "            imageF = cv2.warpPerspective(imageF, M, (h, w))\n",
        "            stacked_image += imageF\n",
        "            plt.imshow(cv2.cvtColor(stacked_image))\n",
        "\n",
        "    stacked_image /= len(file_list)\n",
        "    stacked_image = (stacked_image*255).astype(np.uint8)\n",
        "    return stacked_image"
      ]
    },
    {
      "cell_type": "code",
      "execution_count": 16,
      "metadata": {
        "colab": {
          "background_save": true,
          "base_uri": "https://localhost:8080/",
          "height": 1000
        },
        "id": "B4vEWkl4KSOI",
        "outputId": "827fe827-547f-4202-8e8b-0290c852fc21"
      },
      "outputs": [
        {
          "name": "stdout",
          "output_type": "stream",
          "text": [
            "loaded images\n",
            "c:\\Projects\\P3-Project\\Py image stacker1.tif\n",
            "c:\\Projects\\P3-Project\\Py image stacker2.tif\n",
            "c:\\Projects\\P3-Project\\Py image stacker3.tif\n",
            "c:\\Projects\\P3-Project\\Py image stacker4.tif\n",
            "c:\\Projects\\P3-Project\\Py image stacker5.tif\n",
            "c:\\Projects\\P3-Project\\Py image stacker6.tif\n",
            "c:\\Projects\\P3-Project\\Py image stacker7.tif\n",
            "show images\n"
          ]
        },
        {
          "ename": "error",
          "evalue": "OpenCV(4.6.0) D:\\a\\opencv-python\\opencv-python\\opencv\\modules\\imgcodecs\\src\\loadsave.cpp:801: error: (-215:Assertion failed) !_img.empty() in function 'cv::imwrite'\n",
          "output_type": "error",
          "traceback": [
            "\u001b[1;31m---------------------------------------------------------------------------\u001b[0m",
            "\u001b[1;31merror\u001b[0m                                     Traceback (most recent call last)",
            "Cell \u001b[1;32mIn [16], line 13\u001b[0m\n\u001b[0;32m     11\u001b[0m p \u001b[39m=\u001b[39m file_list[i]\n\u001b[0;32m     12\u001b[0m img \u001b[39m=\u001b[39m cv2\u001b[39m.\u001b[39mimread(p)\n\u001b[1;32m---> 13\u001b[0m cv2\u001b[39m.\u001b[39mimwrite(\u001b[39m'\u001b[39m\u001b[39msaved.tif\u001b[39m\u001b[39m'\u001b[39m, img)\n",
            "\u001b[1;31merror\u001b[0m: OpenCV(4.6.0) D:\\a\\opencv-python\\opencv-python\\opencv\\modules\\imgcodecs\\src\\loadsave.cpp:801: error: (-215:Assertion failed) !_img.empty() in function 'cv::imwrite'\n"
          ]
        }
      ],
      "source": [
        "file_list = [];\n",
        "\n",
        "print(\"loaded images\")\n",
        "for x in range(1,8):\n",
        "  path = os.getcwd()+str(x)+\".tif\"\n",
        "  file_list.append(path)\n",
        "  print(path)\n",
        "  \n",
        "print(\"show images\")\n",
        "for i in range(len(file_list)):\n",
        "  p = file_list[i]\n",
        "  img = cv2.imread(p)\n",
        "  cv2.imwrite('saved.tif', img)\n",
        "  #plt.imshow(img)\n",
        "  \n"
      ]
    },
    {
      "cell_type": "code",
      "execution_count": 8,
      "metadata": {
        "colab": {
          "base_uri": "https://localhost:8080/",
          "height": 1000
        },
        "id": "3N6SOsfoxbDr",
        "outputId": "79d267a0-31fe-43df-e8b8-f034a77eaf66"
      },
      "outputs": [
        {
          "name": "stdout",
          "output_type": "stream",
          "text": [
            "stackImagesKeypointMatching\n"
          ]
        },
        {
          "ename": "NameError",
          "evalue": "name 'file_list' is not defined",
          "output_type": "error",
          "traceback": [
            "\u001b[1;31m---------------------------------------------------------------------------\u001b[0m",
            "\u001b[1;31mNameError\u001b[0m                                 Traceback (most recent call last)",
            "Cell \u001b[1;32mIn [8], line 2\u001b[0m\n\u001b[0;32m      1\u001b[0m \u001b[39mprint\u001b[39m(\u001b[39m\"\u001b[39m\u001b[39mstackImagesKeypointMatching\u001b[39m\u001b[39m\"\u001b[39m)\n\u001b[1;32m----> 2\u001b[0m img1 \u001b[39m=\u001b[39m stackImagesKeypointMatching(file_list)\n",
            "\u001b[1;31mNameError\u001b[0m: name 'file_list' is not defined"
          ]
        }
      ],
      "source": [
        "print(\"stackImagesKeypointMatching\")\n",
        "img1 = stackImagesKeypointMatching(file_list)\n",
        "#print(\"stackImagesECC\")\n",
        "#img2 = stackImagesECC(file_list)\n"
      ]
    },
    {
      "cell_type": "code",
      "execution_count": 7,
      "metadata": {
        "colab": {
          "base_uri": "https://localhost:8080/",
          "height": 737
        },
        "id": "2ydFXz-l26S1",
        "outputId": "d31c8f17-b943-4843-b397-0f455152d799"
      },
      "outputs": [
        {
          "ename": "NameError",
          "evalue": "name 'img1' is not defined",
          "output_type": "error",
          "traceback": [
            "\u001b[1;31m---------------------------------------------------------------------------\u001b[0m",
            "\u001b[1;31mNameError\u001b[0m                                 Traceback (most recent call last)",
            "Cell \u001b[1;32mIn [7], line 1\u001b[0m\n\u001b[1;32m----> 1\u001b[0m plt\u001b[39m.\u001b[39mimshow(cv2\u001b[39m.\u001b[39mcvtColor(img1))\n",
            "\u001b[1;31mNameError\u001b[0m: name 'img1' is not defined"
          ]
        }
      ],
      "source": [
        "plt.imshow(cv2.cvtColor(img1))"
      ]
    }
  ],
  "metadata": {
    "colab": {
      "provenance": []
    },
    "kernelspec": {
      "display_name": "Python 3",
      "language": "python",
      "name": "python3"
    },
    "language_info": {
      "codemirror_mode": {
        "name": "ipython",
        "version": 3
      },
      "file_extension": ".py",
      "mimetype": "text/x-python",
      "name": "python",
      "nbconvert_exporter": "python",
      "pygments_lexer": "ipython3",
      "version": "3.10.7 (tags/v3.10.7:6cc6b13, Sep  5 2022, 14:08:36) [MSC v.1933 64 bit (AMD64)]"
    },
    "vscode": {
      "interpreter": {
        "hash": "afb734500600fd355917ca529030176ea0ca205570884b88f2f6f7d791fd3fbe"
      }
    }
  },
  "nbformat": 4,
  "nbformat_minor": 0
}
