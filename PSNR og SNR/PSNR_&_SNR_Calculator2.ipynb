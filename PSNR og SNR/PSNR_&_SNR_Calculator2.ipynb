{
  "cells": [
    {
      "cell_type": "code",
      "execution_count": 16,
      "metadata": {
        "id": "p7e8EP3FfI8V"
      },
      "outputs": [],
      "source": [
        "import os\n",
        "import cv2\n",
        "import numpy as np\n",
        "from time import time\n",
        "#from google.colab import files\n",
        "#from google.colab.patches import cv2_imshow\n",
        "import matplotlib.pyplot as plt\n",
        "import copy \n",
        "import random\n",
        "#from skimage import io\n",
        "import math"
      ]
    },
    {
      "cell_type": "markdown",
      "metadata": {
        "id": "u2xlDq-JkKM_"
      },
      "source": [
        "#File Upload\n",
        "husk at filerne skal være samme størrelse"
      ]
    },
    {
      "cell_type": "markdown",
      "metadata": {
        "id": "LdDDEdfPtBTI"
      },
      "source": [
        "Refrence image"
      ]
    },
    {
      "cell_type": "code",
      "execution_count": 29,
      "metadata": {
        "colab": {
          "base_uri": "https://localhost:8080/",
          "height": 92
        },
        "id": "MP98OTpus9YX",
        "outputId": "3aa25f20-ecf7-4e1e-b91d-c3e8696cc062"
      },
      "outputs": [],
      "source": [
        "#read image\n",
        "refIm = cv2.imread('Lenna_(test_image) 512x512.png')\n",
        "refIm = cv2.cvtColor(refIm, cv2.COLOR_RGB2GRAY)\n",
        "#show image\n",
        "#plt.imshow(cv2.cvtColor(refIm, cv2.COLOR_BGR2RGB))"
      ]
    },
    {
      "cell_type": "markdown",
      "metadata": {
        "id": "WaLxZQWitC1X"
      },
      "source": [
        "Test image"
      ]
    },
    {
      "cell_type": "code",
      "execution_count": 33,
      "metadata": {
        "colab": {
          "base_uri": "https://localhost:8080/",
          "height": 92
        },
        "id": "uafJiP7ofSup",
        "outputId": "23e6c431-0299-4c54-c47a-89d6c092be1f"
      },
      "outputs": [],
      "source": [
        "#read image\n",
        "testIm = cv2.imread('Efter.png')\n",
        "filepaths = [];\n",
        "#image = cv2.imread(refIm)\n",
        "image = cv2.cvtColor(testIm, cv2.COLOR_RGB2GRAY)\n",
        "for r in range(0,image.shape[0],512):\n",
        "    for c in range(0,image.shape[1],512):\n",
        "        s = f\"image{r}_{c}.png\";\n",
        "        cv2.imwrite(s,image[r:r+512, c:c+512])\n",
        "        filepaths.append(s);\n",
        "\n",
        "        #filepaths.append(s);\n",
        "        #show image\n",
        "        #plt.imshow(cv2.cvtColor(image, cv2.COLOR_BGR2RGB))"
      ]
    },
    {
      "cell_type": "markdown",
      "metadata": {
        "id": "QPPGS083ktWy"
      },
      "source": [
        "#Functioner\n"
      ]
    },
    {
      "cell_type": "code",
      "execution_count": 25,
      "metadata": {
        "id": "jP6EtFb7kv97"
      },
      "outputs": [],
      "source": [
        "def signaltonoise(a, axis=0, ddof=0):\n",
        "    a = np.asanyarray(a)\n",
        "    m = a.mean(axis)\n",
        "    sd = a.std(axis=axis, ddof=ddof)\n",
        "    return np.where(sd == 0, 0, m/sd)"
      ]
    },
    {
      "cell_type": "markdown",
      "metadata": {
        "id": "hYyk0Fu7kGX9"
      },
      "source": [
        "#Udrening"
      ]
    },
    {
      "cell_type": "code",
      "execution_count": 34,
      "metadata": {
        "colab": {
          "base_uri": "https://localhost:8080/"
        },
        "id": "Zl5504oLfYJ1",
        "outputId": "47f8ebef-3627-4f4f-faee-c53c57fb29b2"
      },
      "outputs": [
        {
          "name": "stdout",
          "output_type": "stream",
          "text": [
            "List len: 4\n",
            "PSNR avg: 7.7890369216897515\n",
            "SNR avg: 2.6866687376787293\n"
          ]
        }
      ],
      "source": [
        "psnrlist = []\n",
        "snrlist = []\n",
        "\n",
        "for x in range(len(filepaths)):\n",
        "  image = cv2.imread(filepaths[x])\n",
        "  image = cv2.cvtColor(image, cv2.COLOR_BGR2GRAY)\n",
        "  #cv2_imshow(image)\n",
        "  #print(image.shape)\n",
        "  #print(refIm.shape)\n",
        "  if (image.shape[0] == refIm.shape[0] and image.shape[1] == refIm.shape[1]):\n",
        "    p = cv2.PSNR(image, refIm,255)\n",
        "    #print(\"PSNR: \" + str(p));\n",
        "    psnrlist.append(p)\n",
        "    s = signaltonoise(image, axis=None)\n",
        "    #print(\"SNR: \"+str(s));\n",
        "    snrlist.append(s)\n",
        "\n",
        "print('List len: ' + str(len(filepaths)))\n",
        "print('PSNR avg: ' + str(sum(psnrlist) / len(psnrlist)))\n",
        "print('SNR avg: ' + str(sum(snrlist) / len(snrlist)))"
      ]
    }
  ],
  "metadata": {
    "colab": {
      "provenance": []
    },
    "kernelspec": {
      "display_name": "Python 3.11.0 64-bit",
      "language": "python",
      "name": "python3"
    },
    "language_info": {
      "codemirror_mode": {
        "name": "ipython",
        "version": 3
      },
      "file_extension": ".py",
      "mimetype": "text/x-python",
      "name": "python",
      "nbconvert_exporter": "python",
      "pygments_lexer": "ipython3",
      "version": "3.11.0"
    },
    "vscode": {
      "interpreter": {
        "hash": "b85c235fe83537ff910f7c3e96f0f6da5d2d89c734ad1b409e7f42424359a87b"
      }
    }
  },
  "nbformat": 4,
  "nbformat_minor": 0
}
