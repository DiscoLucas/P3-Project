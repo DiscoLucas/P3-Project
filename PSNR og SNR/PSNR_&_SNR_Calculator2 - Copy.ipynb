{
  "cells": [
    {
      "cell_type": "code",
      "execution_count": 1,
      "metadata": {
        "id": "p7e8EP3FfI8V"
      },
      "outputs": [],
      "source": [
        "import os\n",
        "import cv2\n",
        "import numpy as np\n",
        "from time import time\n",
        "import matplotlib.pyplot as plt\n",
        "import copy \n",
        "import random\n",
        "import math"
      ]
    },
    {
      "cell_type": "markdown",
      "metadata": {
        "id": "u2xlDq-JkKM_"
      },
      "source": [
        "#File Upload\n",
        "husk at filerne skal være samme størrelse"
      ]
    },
    {
      "cell_type": "markdown",
      "metadata": {
        "id": "LdDDEdfPtBTI"
      },
      "source": [
        "Refrence image"
      ]
    },
    {
      "cell_type": "code",
      "execution_count": 2,
      "metadata": {
        "colab": {
          "base_uri": "https://localhost:8080/",
          "height": 92
        },
        "id": "MP98OTpus9YX",
        "outputId": "3aa25f20-ecf7-4e1e-b91d-c3e8696cc062"
      },
      "outputs": [],
      "source": [
        "#read image\n",
        "refIm = cv2.imread('Lenna_(test_image) 512x512.png')\n",
        "refIm = cv2.cvtColor(refIm, cv2.COLOR_RGB2GRAY)"
      ]
    },
    {
      "cell_type": "code",
      "execution_count": 3,
      "metadata": {
        "colab": {
          "base_uri": "https://localhost:8080/",
          "height": 92
        },
        "id": "uafJiP7ofSup",
        "outputId": "23e6c431-0299-4c54-c47a-89d6c092be1f"
      },
      "outputs": [
        {
          "name": "stdout",
          "output_type": "stream",
          "text": [
            "c:\\Projects\\P3-Project\\PSNR og SNR\\read folder\\A.jpg\n",
            "(3870, 5796)\n",
            "A.jpg\n",
            "PSNR avg: 12.958162968705397\n",
            "SNR avg: 5.853628602794693\n",
            "c:\\Projects\\P3-Project\\PSNR og SNR\\read folder\\B.jpg\n",
            "(3795, 5763)\n",
            "B.jpg\n",
            "PSNR avg: 12.56812330389348\n",
            "SNR avg: 4.895247360231526\n"
          ]
        }
      ],
      "source": [
        "#read image\n",
        "\n",
        "#inputImage = \"15_stacked.jpg\"\n",
        "#folderPath = os.getcwd()+\"\\\\Photos for SNR tests\\\\\"+inputImage\n",
        "directory = os.getcwd()+\"\\\\read folder\\\\\"\n",
        "for filename in os.listdir(directory):\n",
        "    file = os.path.join(directory, filename)\n",
        "    print(file)\n",
        "    \n",
        "    testIm = cv2.imread(file)\n",
        "    filepaths = [];\n",
        "    #print(refIm.shape)\n",
        "    imHeight = refIm.shape[0]\n",
        "    imWidth = refIm.shape[1]\n",
        "    image = cv2.cvtColor(testIm, cv2.COLOR_RGB2GRAY)\n",
        "    print(image.shape)\n",
        "    for x in range(0,image.shape[1],imWidth):\n",
        "        for y in range(0,image.shape[0],imHeight):\n",
        "            s = os.getcwd()+\"\\\\temp\\\\\"+\"image\"+str(x)+\"_\"+str(y)+\".png\";\n",
        "            i = image.copy()[y:y+imHeight, x:x+imWidth]\n",
        "            #print(s,\" \",i.shape)\n",
        "            if(i.shape[0]!= 0 and i.shape[1]!= 0):\n",
        "                cv2.imwrite(s,i)\n",
        "                filepaths.append(s);\n",
        "\n",
        "            #filepaths.append(s);\n",
        "            #show image\n",
        "            #plt.imshow(cv2.cvtColor(image, cv2.COLOR_BGR2RGB))\n",
        "\n",
        "    # Functions\n",
        "    def signaltonoise(a, axis=0, ddof=0):\n",
        "        a = np.asanyarray(a)\n",
        "        m = a.mean(axis)\n",
        "        sd = a.std(axis=axis, ddof=ddof)\n",
        "        return np.where(sd == 0, 0, m/sd)\n",
        "\n",
        "    # SNR calculations\n",
        "    psnrlist = []\n",
        "    snrlist = []\n",
        "\n",
        "    for x in range(len(filepaths)):\n",
        "      image = cv2.imread(filepaths[x])\n",
        "      image = cv2.cvtColor(image, cv2.COLOR_BGR2GRAY)\n",
        "      if (image.shape[0] == refIm.shape[0] and image.shape[1] == refIm.shape[1]):\n",
        "        p = cv2.PSNR(image, refIm,255)\n",
        "        #print(\"PSNR: \" + str(p));\n",
        "        psnrlist.append(p)\n",
        "        s = signaltonoise(image, axis=None)\n",
        "        #print(\"SNR: \"+str(s));\n",
        "        snrlist.append(s)\n",
        "\n",
        "    print(filename)\n",
        "    if (len(psnrlist) > 1):\n",
        "      print('PSNR avg: ' + str(sum(psnrlist) / len(psnrlist)))\n",
        "    else:\n",
        "      print('PSNR : ' + str(psnrlist[0]))\n",
        "      \n",
        "    if (len(snrlist) > 1):\n",
        "      print('SNR avg: ' + str(sum(snrlist) / len(snrlist)))\n",
        "    else:\n",
        "      print('SNR : ' + str(snrlist[0]))"
      ]
    },
    {
      "cell_type": "markdown",
      "metadata": {
        "id": "QPPGS083ktWy"
      },
      "source": [
        "#Functioner\n"
      ]
    },
    {
      "cell_type": "markdown",
      "metadata": {
        "id": "hYyk0Fu7kGX9"
      },
      "source": [
        "#Udrening"
      ]
    },
    {
      "cell_type": "code",
      "execution_count": 19,
      "metadata": {
        "colab": {
          "base_uri": "https://localhost:8080/"
        },
        "id": "Zl5504oLfYJ1",
        "outputId": "47f8ebef-3627-4f4f-faee-c53c57fb29b2"
      },
      "outputs": [
        {
          "name": "stdout",
          "output_type": "stream",
          "text": [
            "PSNR avg: 6.6075556950190615\n",
            "SNR avg: 0.009192267312987298\n"
          ]
        },
        {
          "name": "stderr",
          "output_type": "stream",
          "text": [
            "C:\\Users\\User\\AppData\\Local\\Temp\\ipykernel_1016\\3991552225.py:27: RuntimeWarning: invalid value encountered in double_scalars\n",
            "  return np.where(sd == 0, 0, m/sd)\n"
          ]
        }
      ],
      "source": []
    },
    {
      "cell_type": "code",
      "execution_count": null,
      "metadata": {},
      "outputs": [],
      "source": [
        ")\n",
        "print('PSNR avg: ' + str(sum(psnrlist) / len(psnrlist)))\n",
        "print('SNR avg: ' + str(sum(snrlist) / len(snrlist)))"
      ]
    },
    {
      "cell_type": "code",
      "execution_count": null,
      "metadata": {},
      "outputs": [],
      "source": [
        ")\n",
        "print('PSNR avg: ' + str(sum(psnrlist) / len(psnrlist)))\n",
        "print('SNR avg: ' + str(sum(snrlist) / len(snrlist)))"
      ]
    }
  ],
  "metadata": {
    "colab": {
      "provenance": []
    },
    "kernelspec": {
      "display_name": "Python 3.10.7 64-bit",
      "language": "python",
      "name": "python3"
    },
    "language_info": {
      "codemirror_mode": {
        "name": "ipython",
        "version": 3
      },
      "file_extension": ".py",
      "mimetype": "text/x-python",
      "name": "python",
      "nbconvert_exporter": "python",
      "pygments_lexer": "ipython3",
      "version": "3.10.7"
    },
    "vscode": {
      "interpreter": {
        "hash": "afb734500600fd355917ca529030176ea0ca205570884b88f2f6f7d791fd3fbe"
      }
    }
  },
  "nbformat": 4,
  "nbformat_minor": 0
}
